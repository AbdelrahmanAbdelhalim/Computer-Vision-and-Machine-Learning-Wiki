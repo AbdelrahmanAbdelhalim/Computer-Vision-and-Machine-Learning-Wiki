{
 "cells": [
  {
   "cell_type": "markdown",
   "metadata": {},
   "source": [
    "# Classifying MNIST Digits using an Multi-Layer Perceptron"
   ]
  },
  {
   "cell_type": "markdown",
   "metadata": {},
   "source": [
    "### First we organize out imports of libraries and functions we will need to use."
   ]
  },
  {
   "cell_type": "code",
   "execution_count": 1,
   "metadata": {},
   "outputs": [],
   "source": [
    "import numpy as np\n",
    "import tensorflow as tf\n",
    "import matplotlib.pyplot as plt"
   ]
  },
  {
   "cell_type": "markdown",
   "metadata": {},
   "source": [
    "### Load the MNIST Dataset using Tensorflow's built in data loader. "
   ]
  },
  {
   "cell_type": "code",
   "execution_count": 2,
   "metadata": {},
   "outputs": [],
   "source": [
    "# Download and parse the MNIST dataset\n",
    "(x_train, y_train), (x_test, y_test) = tf.keras.datasets.mnist.load_data()\n",
    "\n",
    "# Transform the images from the range [0..255] uint8 to [0..1] float32\n",
    "x_train = np.expand_dims(x_train.astype(np.float32) / 255.0, axis=-1) # [60000, 28, 28, 1]\n",
    "x_test  = np.expand_dims( x_test.astype(np.float32) / 255.0, axis=-1) # [10000, 28, 28, 1]\n",
    "# Dimensions of image data is [num_images, height, width, channel]"
   ]
  },
  {
   "cell_type": "markdown",
   "metadata": {},
   "source": [
    "### Debug the dataset by plotting some images and their true labels from the test set."
   ]
  },
  {
   "cell_type": "code",
   "execution_count": 3,
   "metadata": {},
   "outputs": [
    {
     "data": {
      "image/png": "[encoded data removed]",
      "text/plain": [
       "<Figure size 960x160 with 8 Axes>"
      ]
     },
     "metadata": {},
     "output_type": "display_data"
    }
   ],
   "source": [
    "# Plot a series of images from the test set with their true labels\n",
    "plt.figure(figsize=(12,2), dpi=80)    \n",
    "num_images_to_show = 8\n",
    "for idx in range(num_images_to_show):\n",
    "    plt.subplot(1, num_images_to_show, idx + 1)\n",
    "    plt.axis('off')\n",
    "    \n",
    "    # x_train is a 4-dimensional array, we want to slice out a single 28x28 pixel image\n",
    "    plt.imshow(x_test[idx,:,:,0])\n",
    "    plt.title('True: %d' % (y_test[idx]))\n",
    "    \n",
    "plt.show()"
   ]
  },
  {
   "cell_type": "markdown",
   "metadata": {},
   "source": [
    "### Define and train a 2-layer Multi-Layer Perceptron."
   ]
  },
  {
   "cell_type": "code",
   "execution_count": 4,
   "metadata": {},
   "outputs": [
    {
     "name": "stdout",
     "output_type": "stream",
     "text": [
      "Train on 60000 samples, validate on 10000 samples\n",
      "Epoch 1/5\n",
      "60000/60000 [==============================] - 5s 91us/sample - loss: 0.2181 - accuracy: 0.9352 - val_loss: 0.1055 - val_accuracy: 0.9695\n",
      "Epoch 2/5\n",
      "60000/60000 [==============================] - 5s 84us/sample - loss: 0.0975 - accuracy: 0.9701 - val_loss: 0.0787 - val_accuracy: 0.9749\n",
      "Epoch 3/5\n",
      "60000/60000 [==============================] - 5s 86us/sample - loss: 0.0682 - accuracy: 0.9791 - val_loss: 0.0674 - val_accuracy: 0.9789\n",
      "Epoch 4/5\n",
      "60000/60000 [==============================] - 5s 84us/sample - loss: 0.0547 - accuracy: 0.9826 - val_loss: 0.0679 - val_accuracy: 0.9785\n",
      "Epoch 5/5\n",
      "60000/60000 [==============================] - 5s 86us/sample - loss: 0.0422 - accuracy: 0.9861 - val_loss: 0.0644 - val_accuracy: 0.9807\n"
     ]
    },
    {
     "data": {
      "text/plain": [
       "<tensorflow.python.keras.callbacks.History at 0x26ec8de3da0>"
      ]
     },
     "execution_count": 4,
     "metadata": {},
     "output_type": "execute_result"
    }
   ],
   "source": [
    "model = tf.keras.models.Sequential([\n",
    "    tf.keras.layers.Input((28, 28, 1)),\n",
    "    tf.keras.layers.Flatten(),\n",
    "    tf.keras.layers.Dense(512, activation=tf.nn.relu),\n",
    "    tf.keras.layers.Dropout(0.2),\n",
    "    tf.keras.layers.Dense(10, activation=tf.nn.softmax)\n",
    "])\n",
    "\n",
    "model.compile(optimizer='adam', loss='sparse_categorical_crossentropy', metrics=['accuracy'])\n",
    "\n",
    "model.fit(x=x_train, y=y_train, validation_data=(x_test, y_test), batch_size=32, epochs=5)"
   ]
  },
  {
   "cell_type": "markdown",
   "metadata": {},
   "source": [
    "### Debug the model by plotting some images, their true labels, and their predicted labels from the test set."
   ]
  },
  {
   "cell_type": "code",
   "execution_count": 5,
   "metadata": {},
   "outputs": [
    {
     "data": {
      "image/png": "[encoded data removed]",
      "text/plain": [
       "<Figure size 960x160 with 8 Axes>"
      ]
     },
     "metadata": {},
     "output_type": "display_data"
    }
   ],
   "source": [
    "# Plot a series of images from the test set with their true and predicted labels\n",
    "plt.figure(figsize=(12,2), dpi=80)    \n",
    "num_images_to_show = 8\n",
    "for idx in range(num_images_to_show):\n",
    "    plt.subplot(1, num_images_to_show, idx + 1)\n",
    "    plt.axis('off')\n",
    "    \n",
    "    # Perform inference on a single image, need to put it in a batch with batch size 1\n",
    "    batch = np.expand_dims(x_test[idx], axis=0) # batch has size [1, 28, 28, 1]\n",
    "    probs = model.predict(batch)                # probs has size [1, 10]\n",
    "    pred_class = np.argmax(probs[0])            # predicted class is an integer\n",
    "    \n",
    "    # x_train is a 4-dimensional array, we want to slice out a single 28x28 pixel image\n",
    "    plt.imshow(x_test[idx,:,:,0])\n",
    "    plt.title('True: %d\\nPred: %d' % (y_test[idx], pred_class))\n",
    "    \n",
    "plt.show()"
   ]
  },
  {
   "cell_type": "code",
   "execution_count": null,
   "metadata": {},
   "outputs": [],
   "source": []
  }
 ],
 "metadata": {
  "kernelspec": {
   "display_name": "Python 3",
   "language": "python",
   "name": "python3"
  },
  "language_info": {
   "codemirror_mode": {
    "name": "ipython",
    "version": 3
   },
   "file_extension": ".py",
   "mimetype": "text/x-python",
   "name": "python",
   "nbconvert_exporter": "python",
   "pygments_lexer": "ipython3",
   "version": "3.6.6"
  }
 },
 "nbformat": 4,
 "nbformat_minor": 2
}
